{
  "nbformat": 4,
  "nbformat_minor": 0,
  "metadata": {
    "colab": {
      "name": "VideoMaker1.2.ipynb",
      "provenance": [],
      "collapsed_sections": [],
      "authorship_tag": "ABX9TyPvwh54QMSqEtgOEDl9SWaW"
    },
    "kernelspec": {
      "display_name": "Python 3",
      "name": "python3"
    },
    "language_info": {
      "name": "python"
    }
  },
  "cells": [
    {
      "cell_type": "code",
      "metadata": {
        "id": "k_gnP8hcUodI"
      },
      "source": [
        "# ###################################\n",
        "#     ----    S T A R T ----\n",
        "# ###################################\n",
        "\n",
        "# Libraries to be installed every run\n",
        "\n",
        "!pip install moviepy;\n",
        "!pip install pytube ;\n",
        "!apt install imagemagick;\n",
        "\n",
        "\n",
        "# ###################################\n",
        "#       -- I M P O R T A N T --\n",
        "# ###################################\n",
        "# imagemagick have a piece of line that needs deleting so this would read and delete the line ( rewrite file )\n",
        "\n",
        "policypath = '/etc/ImageMagick-6/policy.xml'\n",
        "try:\n",
        "  with open(policypath,'r') as f:\n",
        "    lines = f.readlines()\n",
        "  # del policypath\n",
        "except:\n",
        "  print('File not found...')\n",
        "\n",
        "# policypath = '/etc/ImageMagick-6/policy.xml'\n",
        "with open(policypath,'w') as rwrite:\n",
        "  for i in lines:\n",
        "    if i.strip() == '<policy domain=\"path\" rights=\"none\" pattern=\"@*\"/>':\n",
        "      print('deleted')\n",
        "    else:\n",
        "      rwrite.write(i)\n",
        "\n",
        "import sys\n",
        "import os\n",
        "from pytube import YouTube # downloading videos\n",
        "from moviepy.editor import * # for editing video\n",
        "from moviepy import *\n",
        "import subprocess # splitting videos\n",
        "import re\n"
      ],
      "execution_count": null,
      "outputs": []
    },
    {
      "cell_type": "code",
      "metadata": {
        "colab": {
          "base_uri": "https://localhost:8080/"
        },
        "id": "nCt_C5SRPl4D",
        "outputId": "116327f2-0b31-4e5d-ec97-3c5082ff64cd"
      },
      "source": [
        "!apt install ffmpeg"
      ],
      "execution_count": 43,
      "outputs": [
        {
          "output_type": "stream",
          "text": [
            "Reading package lists... Done\n",
            "Building dependency tree       \n",
            "Reading state information... Done\n",
            "ffmpeg is already the newest version (7:3.4.8-0ubuntu0.2).\n",
            "The following package was automatically installed and is no longer required:\n",
            "  libnvidia-common-460\n",
            "Use 'apt autoremove' to remove it.\n",
            "0 upgraded, 0 newly installed, 0 to remove and 34 not upgraded.\n"
          ],
          "name": "stdout"
        }
      ]
    },
    {
      "cell_type": "code",
      "metadata": {
        "id": "4ny9fjWfB3v7"
      },
      "source": [
        "global meta"
      ],
      "execution_count": 16,
      "outputs": []
    },
    {
      "cell_type": "code",
      "metadata": {
        "id": "8ayb62Zyf3-r"
      },
      "source": [
        "def download(Link):\n",
        "    cwdpath = os.getcwd()\n",
        "    print(f' Your location : {cwdpath}')\n",
        "\n",
        "    # DOWNLOAD YOUTUBE VIDEOS\n",
        "    print(' Let\\'s download a Video ')\n",
        "    yt = YouTube(Link)\n",
        "    title = yt.title\n",
        "    print(f' Video Name      : {title}')\n",
        "    desc = yt.description\n",
        "    lenght = yt.length\n",
        "    author = yt.author\n",
        "    \n",
        "    print(f' Length of video : {lenght} seconds')\n",
        "    print(f' Author of Video : {author}')\n",
        "    video = yt.streams.get_highest_resolution()\n",
        "    vid_loc = os.path.join(cwdpath,'contents')\n",
        "    path = video.download(vid_loc)\n",
        "\n",
        "    document = {\n",
        "        'Title'          : title.strip(),\n",
        "        'Description'    : desc,\n",
        "        'Video_Path'     : path,\n",
        "        'Current_Folder' : cwdpath,\n",
        "        'Author'         : author\n",
        "    }\n",
        "    with open('/content/info.txt','w') as f:\n",
        "      f.write(title+'\\n'+author+'\\n')\n",
        "\n",
        "    return document\n",
        "\n",
        "def manifest(start,end):\n",
        "  path = '/content/contents/Nvideo.mp4'\n",
        "  with open('/content/manifest.csv','w') as f:\n",
        "    f.write('start_time,length,rename_to\\n')\n",
        "    f.write(f'{start},{end},{path}')\n",
        "  print('WRITING TO MANIFEST FILE')\n",
        "\n",
        "def split(meta,split_time,start,end):\n",
        "  #SPLIT VIDEO\n",
        "  path  = meta['Video_Path'] \n",
        "\n",
        "  splitter = '/content/video-splitter/ffmpeg-split.py'\n",
        "  if os.path.isfile(splitter) :\n",
        "    print('File is available. Moving along.')\n",
        "  else:\n",
        "    !git clone https://github.com/c0decracker/video-splitter.git\n",
        "  if end == 0:\n",
        "    subprocess.run(['python', splitter, '-s',split_time ,'-f', path ])\n",
        "  else:\n",
        "    manifest(start,end)\n",
        "    subprocess.run(['python', splitter ,'-f', path, '-e','-copyinkf','-m','/content/manifest.csv' ])\n",
        "    os. remove(path)\n",
        "\n",
        "    path = '/content/contents/Nvideo.mp4'\n",
        "\n",
        "    subprocess.run(['python', splitter, '-s', split_time  ,'-f', path])\n",
        "\n",
        "  os. remove(path) \n",
        "\n",
        "\n",
        "def changeVideo():\n",
        "  lists = os.listdir('/content/contents/')\n",
        "  # author = meta['Author']\n",
        "  x= 0\n",
        "  paths = []\n",
        "  angle = 270\n",
        "  for i in lists:\n",
        "    paths.append(os.path.join('/content/contents',i))\n",
        "    print(paths[x])\n",
        "    x+=1\n",
        "    regex = '(-\\d-\\d*)'\n",
        "  info = '/content/info.txt'\n",
        "  with open(info,'r') as f:\n",
        "    title = f.readline()\n",
        "    author = f.readline()\n",
        "  author = author.replace('\\n','').strip()\n",
        "  print('Author is found to be {}'.format(author))\n",
        "  Name = title.replace('(Official Video)\\n','').strip()\n",
        "  path = paths[0]\n",
        "\n",
        "  total = len(paths)\n",
        "  num = 1\n",
        "  for path in paths:\n",
        "    part = re.findall('-(\\w+)-',path)[0]\n",
        "    # try:\n",
        "    annoy = '/content/contents/.ipynb_checkpoints'\n",
        "    if os.path.isdir(annoy):\n",
        "      os.removedirs(annoy)\n",
        "    print( '---------------------------------------------')\n",
        "    print(f'Video Part : {num} / {total}')\n",
        "    print( '---------------------------------------------')\n",
        "    videoE = VideoFileClip(path, audio=True)\n",
        "    w,h = moviesize = videoE.size\n",
        "\n",
        "    # txt = TextClip(, font='Amiri-regular',\n",
        "    #                 color='yellow',fontsize=40);\n",
        "    # txt = txt.set_position(lambda t:(10,50)).set_duration(videoE.duration);\n",
        "    # video = CompositeVideoClip([videoE,txt.set_start(0.1).crossfadein(2)]);\n",
        "    # # txt = TextClip(f'Part : {part} - {total}', font='Amiri-regular',\n",
        "    # #                 color='yellow',fontsize=20);\n",
        "    # # txt = txt.set_position(lambda t:(20,80)).set_duration(video.duration);\n",
        "    # # video = CompositeVideoClip([video,txt.set_start(0.1).crossfadein(2)]);\n",
        "\n",
        "    #texts after beginning screen\n",
        "    txt01 = TextClip(f'{Name}', font='Amiri-regular',color='yellow',fontsize=30);\n",
        "    txt01 = txt01.set_position(lambda t:(20,40)).set_duration(videoE.duration);\n",
        "    txt02 = TextClip(f'Part : {part} - {total}', font='Amiri-regular',color='yellow',fontsize=30);\n",
        "    txt02 = txt02.set_position(lambda t:(20,80)).set_duration(videoE.duration);\n",
        "\n",
        "    #title\n",
        "    title = TextClip(f' {Name} ', font='Amiri-regular',color='yellow',fontsize=40,bg_color = 'black')\n",
        "    title = title.set_position(('center','center')).set_duration(2)\n",
        "\n",
        "    title01 = TextClip(f' Part : {part} - {total} ', font='Amiri-regular',color='yellow',fontsize=40,bg_color='black');\n",
        "    title01 = title01.set_position(('center',400)).set_duration(2);\n",
        "\n",
        "    Author = TextClip(f' {author} ', font='Amiri-regular',color='yellow',fontsize=20,bg_color='black');\n",
        "    Author = Author.set_position(('center',450)).set_duration(2);\n",
        "    #next video\n",
        "    nextv = TextClip(f'Part : {part} - {total}', font='Amiri-regular',color='yellow',fontsize=30);\n",
        "    nextv = nextv.set_position(lambda t:('bottom','left')).set_duration(videoE.duration);\n",
        "    \n",
        "    video = CompositeVideoClip([videoE,title,title01,Author,txt01.set_start(3).crossfadein(1),txt02.set_start(3).crossfadein(1)]);    \n",
        "    video = video.rotate(angle = angle)\n",
        "\n",
        "    name = Name.replace(' ','')\n",
        "    video.write_videofile(f'/content/contents/{name}_{part}.mp4',progress_bar = False);\n",
        "\n",
        "    # video.ipython_display(width=100,verbose=False,progress_bar = False)\n",
        "    #clean up \n",
        "    os.remove(path)\n",
        "    # except:\n",
        "    #   print(f'Something Wrong With Part : {part}')\n",
        "    num+=1\n",
        "def videoSavior():\n",
        "  #Zip Folder and Download\n",
        "  from google.colab import files\n",
        "  !zip -r /content/contents/Videos.zip /content/contents/\n",
        "  files.download(\"/content/contents/Videos.zip\")\n",
        "\n",
        "def cleanUP():\n",
        "  dir = os.listdir('/content/contents/')\n",
        "  annoy = '/content/contents/.ipynb_checkpoints'\n",
        "  if os.path.isdir(annoy):\n",
        "    os.removedirs(annoy)\n",
        "  print('Cleaning up Storage...')\n",
        "  for i in dir:\n",
        "    os.remove('/content/contents/'+i)\n",
        "  print('Still Cleaning...')\n",
        "  os.remove('/content/info.txt')\n",
        "  os.remove('/content/manifest.csv')\n",
        "\n",
        "def main(split_time,start,end):\n",
        "    Link = input(' Please Enter YouTube Link : ')\n",
        "\n",
        "    meta = download(Link)\n",
        "\n",
        "    split(meta,str(split_time),start,end)\n",
        "\n",
        "    changeVideo()\n",
        "\n",
        "    videoSavior()\n",
        "\n",
        "    #cleanUP()"
      ],
      "execution_count": 34,
      "outputs": []
    },
    {
      "cell_type": "code",
      "metadata": {
        "id": "SbgH0PWXo20x"
      },
      "source": [
        "      annoy = '/content/contents/.ipynb_checkpoints'\n",
        "      if os.path.isdir(annoy):\n",
        "        os.removedirs(annoy)"
      ],
      "execution_count": 19,
      "outputs": []
    },
    {
      "cell_type": "code",
      "metadata": {
        "colab": {
          "base_uri": "https://localhost:8080/",
          "height": 133
        },
        "id": "XPMbHFpnBnUY",
        "outputId": "0e7dc026-1a2b-4718-bf64-eb860208f748"
      },
      "source": [
        "videoSavior()"
      ],
      "execution_count": 51,
      "outputs": [
        {
          "output_type": "stream",
          "text": [
            "  adding: content/contents/ (stored 0%)\n",
            "  adding: content/contents/The5LoveLanguagesExplained_5.mp4 (deflated 1%)\n",
            "  adding: content/contents/The5LoveLanguagesExplained_3.mp4 (deflated 1%)\n",
            "  adding: content/contents/The5LoveLanguagesExplained_2.mp4 (deflated 1%)\n",
            "  adding: content/contents/The5LoveLanguagesExplained_6.mp4 (deflated 1%)\n",
            "  adding: content/contents/The5LoveLanguagesExplained_4.mp4 (deflated 1%)\n",
            "  adding: content/contents/The5LoveLanguagesExplained_1.mp4 (deflated 1%)\n"
          ],
          "name": "stdout"
        },
        {
          "output_type": "display_data",
          "data": {
            "application/javascript": [
              "\n",
              "    async function download(id, filename, size) {\n",
              "      if (!google.colab.kernel.accessAllowed) {\n",
              "        return;\n",
              "      }\n",
              "      const div = document.createElement('div');\n",
              "      const label = document.createElement('label');\n",
              "      label.textContent = `Downloading \"${filename}\": `;\n",
              "      div.appendChild(label);\n",
              "      const progress = document.createElement('progress');\n",
              "      progress.max = size;\n",
              "      div.appendChild(progress);\n",
              "      document.body.appendChild(div);\n",
              "\n",
              "      const buffers = [];\n",
              "      let downloaded = 0;\n",
              "\n",
              "      const channel = await google.colab.kernel.comms.open(id);\n",
              "      // Send a message to notify the kernel that we're ready.\n",
              "      channel.send({})\n",
              "\n",
              "      for await (const message of channel.messages) {\n",
              "        // Send a message to notify the kernel that we're ready.\n",
              "        channel.send({})\n",
              "        if (message.buffers) {\n",
              "          for (const buffer of message.buffers) {\n",
              "            buffers.push(buffer);\n",
              "            downloaded += buffer.byteLength;\n",
              "            progress.value = downloaded;\n",
              "          }\n",
              "        }\n",
              "      }\n",
              "      const blob = new Blob(buffers, {type: 'application/binary'});\n",
              "      const a = document.createElement('a');\n",
              "      a.href = window.URL.createObjectURL(blob);\n",
              "      a.download = filename;\n",
              "      div.appendChild(a);\n",
              "      a.click();\n",
              "      div.remove();\n",
              "    }\n",
              "  "
            ],
            "text/plain": [
              "<IPython.core.display.Javascript object>"
            ]
          },
          "metadata": {
            "tags": []
          }
        },
        {
          "output_type": "display_data",
          "data": {
            "application/javascript": [
              "download(\"download_ef2f6c92-7512-4f0b-bb34-d4cf65ae2ce3\", \"Videos.zip\", 24091783)"
            ],
            "text/plain": [
              "<IPython.core.display.Javascript object>"
            ]
          },
          "metadata": {
            "tags": []
          }
        }
      ]
    },
    {
      "cell_type": "code",
      "metadata": {
        "id": "p39fHEVvXHym"
      },
      "source": [
        "# --------------------------------\n",
        "#     --  Start Program   --\n",
        "\n",
        "# Change these 2 variables only if you're splitting main video before splitting to 59s videos\n",
        "start      = 0  # 0 default\n",
        "end        = 360  # 0 default\n",
        "split_time = 60 # time for videos. 59 secs for tiktoks\n",
        "\n",
        "main(split_time,start,end) \n",
        "\n",
        "## Enter Desired Video to Upload to Status / Tiktok"
      ],
      "execution_count": null,
      "outputs": []
    },
    {
      "cell_type": "code",
      "metadata": {
        "id": "TyO7KY1KOyiR"
      },
      "source": [
        "!pip install ffmpeg"
      ],
      "execution_count": null,
      "outputs": []
    },
    {
      "cell_type": "code",
      "metadata": {
        "id": "onwleKKDHRZg"
      },
      "source": [
        "cleanUP()"
      ],
      "execution_count": null,
      "outputs": []
    },
    {
      "cell_type": "markdown",
      "metadata": {
        "id": "X2wLwrpYmmE4"
      },
      "source": [
        "**TESTING FUNCTIONS AND DEBUGGING ERRORS IF ARISED**"
      ]
    },
    {
      "cell_type": "code",
      "metadata": {
        "id": "pgHYv_v01d17",
        "colab": {
          "base_uri": "https://localhost:8080/"
        },
        "outputId": "ba6e05d0-f3a6-442d-8257-23e28cea345d"
      },
      "source": [
        "dir = os.listdir('/content/contents/')\n",
        "dir"
      ],
      "execution_count": 13,
      "outputs": [
        {
          "output_type": "execute_result",
          "data": {
            "text/plain": [
              "[]"
            ]
          },
          "metadata": {
            "tags": []
          },
          "execution_count": 13
        }
      ]
    },
    {
      "cell_type": "code",
      "metadata": {
        "id": "2d2Ufb0gol0m"
      },
      "source": [
        "dir = os.listdir('/content/contents/')\n",
        "for i in dir:\n",
        "  try:\n",
        "    os.remove(i)\n",
        "  except:\n",
        "    os.rmdir(i)\n",
        "\n",
        "def changeVideo1():\n",
        "  lists = os.listdir('/content/contents/')\n",
        "  author = 'meta'\n",
        "  x= 0\n",
        "  paths = []\n",
        "  for i in lists:\n",
        "    paths.append(os.path.join('/content/contents',i))\n",
        "    print(paths[x])\n",
        "    x+=1\n",
        "    regex = '(-\\d-\\d*)'\n",
        "  info = '/content/info.txt'\n",
        "  with open(info,'r') as f:\n",
        "    p = f.readline()\n",
        "  Name = p.replace('(Official Video)\\n','').strip()\n",
        "  path = paths[0]\n",
        "\n",
        "  total = len(paths)\n",
        "  num = 1\n",
        "  for path in paths:\n",
        "    part = 9 #re.findall('-(\\w+)-',path)[0]\n",
        "    try:\n",
        "      annoy = '/content/contents/.ipynb_checkpoints'\n",
        "      if os.path.isdir(annoy):\n",
        "        os.removedirs(annoy)\n",
        "      print( '---------------------------------------------')\n",
        "      print(f'Video Part : {num} / {total}')\n",
        "      print( '---------------------------------------------')\n",
        "      videoE = VideoFileClip(path, audio=True)\n",
        "      w,h = moviesize = videoE.size\n",
        "\n",
        "      # txt = TextClip(, font='Amiri-regular',\n",
        "      #                 color='yellow',fontsize=40);\n",
        "      # txt = txt.set_position(lambda t:(10,50)).set_duration(videoE.duration);\n",
        "      # video = CompositeVideoClip([videoE,txt.set_start(0.1).crossfadein(2)]);\n",
        "      # # txt = TextClip(f'Part : {part} - {total}', font='Amiri-regular',\n",
        "      # #                 color='yellow',fontsize=20);\n",
        "      # # txt = txt.set_position(lambda t:(20,80)).set_duration(video.duration);\n",
        "      # # video = CompositeVideoClip([video,txt.set_start(0.1).crossfadein(2)]);\n",
        "\n",
        "      #texts after beginning screen\n",
        "      txt01 = TextClip(f' {Name}', font='Amiri-regular',color='yellow',fontsize=30);\n",
        "      txt01 = txt01.set_position(lambda t:(20,40)).set_duration(videoE.duration);\n",
        "      txt02 = TextClip(f'Part : {part} - {total}', font='Amiri-regular',color='yellow',fontsize=30);\n",
        "      txt02 = txt02.set_position(lambda t:(20,80)).set_duration(videoE.duration);\n",
        "      #title\n",
        "      title = TextClip(f'{Name}', font='Amiri-regular',color='yellow',fontsize=40,bg_color = 'black')\n",
        "      title = title.set_position(('center','center')).set_duration(2)\n",
        "      title01 = TextClip(f'Part : {part} - {total}', font='Amiri-regular',color='yellow',fontsize=40,bg_color='black');\n",
        "      title01 = title01.set_position(('center',400)).set_duration(2);\n",
        "      Author = TextClip(f'{author}', font='Amiri-regular',color='yellow',fontsize=20,bg_color='black');\n",
        "      Author = Author.set_position(('center',450)).set_duration(2);\n",
        "      video = CompositeVideoClip([videoE,title,title01,Author,txt01.set_start(3).crossfadein(1),txt02.set_start(3).crossfadein(1)]);\n",
        "          \n",
        "      video = video.rotate(angle = angle)\n",
        "\n",
        "      name = Name.replace(' ','')\n",
        "      video.write_videofile(f'/content/contents/{name}_{part}.mp4',progress_bar = False);\n",
        "\n",
        "      # video.ipython_display(width=100,verbose=False,progress_bar = False)\n",
        "      #clean up \n",
        "      os.remove(path)\n",
        "    except:\n",
        "      print(f'Something Wrong With Part : {part}')\n",
        "    num+=1\n",
        "def changeVideo1(meta):\n",
        "  lists = os.listdir('/content/contents/')\n",
        "  author = 'nil'\n",
        "  x= 0\n",
        "  paths = []\n",
        "  for i in lists:\n",
        "    paths.append(os.path.join('/content/contents',i))\n",
        "    print(paths[x])\n",
        "    x+=1\n",
        "    regex = '(-\\d-\\d*)'\n",
        "  info = '/content/info.txt'\n",
        "  with open(info,'r') as f:\n",
        "    p = f.readline()\n",
        "  Name = p.replace('(Official Video)\\n','').strip()\n",
        "  path = paths[0]\n",
        "\n",
        "  total = len(paths)\n",
        "  num = 1\n",
        "  for path in paths:\n",
        "    fname = re.findall('-(\\w+)-',path)\n",
        "    if len(fname)>0 :\n",
        "      part = part[0]\n",
        "      try:\n",
        "        annoy = '/content/contents/.ipynb_checkpoints'\n",
        "        if os.path.isdir(annoy):\n",
        "          os.removedirs(annoy)\n",
        "        print( '---------------------------------------------')\n",
        "        print(f'Video Part : {num} / {total}')\n",
        "        print( '---------------------------------------------')\n",
        "        videoE = VideoFileClip(path, audio=True)\n",
        "        w,h = moviesize = videoE.size\n",
        "\n",
        "        # txt = TextClip(, font='Amiri-regular',\n",
        "        #                 color='yellow',fontsize=40);\n",
        "        # txt = txt.set_position(lambda t:(10,50)).set_duration(videoE.duration);\n",
        "        # video = CompositeVideoClip([videoE,txt.set_start(0.1).crossfadein(2)]);\n",
        "        # # txt = TextClip(f'Part : {part} - {total}', font='Amiri-regular',\n",
        "        # #                 color='yellow',fontsize=20);\n",
        "        # # txt = txt.set_position(lambda t:(20,80)).set_duration(video.duration);\n",
        "        # # video = CompositeVideoClip([video,txt.set_start(0.1).crossfadein(2)]);\n",
        "\n",
        "        #texts after beginning screen\n",
        "        txt01 = TextClip(f' {Name}', font='Amiri-regular',color='yellow',fontsize=30);\n",
        "        txt01 = txt01.set_position(lambda t:(20,40)).set_duration(videoE.duration);\n",
        "        txt02 = TextClip(f'Part : {part} - {total}', font='Amiri-regular',color='yellow',fontsize=30);\n",
        "        txt02 = txt02.set_position(lambda t:(20,80)).set_duration(videoE.duration);\n",
        "\n",
        "        #title\n",
        "        title = TextClip(f'{Name}', font='Amiri-regular',color='yellow',fontsize=40,bg_color = 'black')\n",
        "        title = title.set_position(('center','center')).set_duration(2)\n",
        "\n",
        "        title01 = TextClip(f'Part : {part} - {total}', font='Amiri-regular',color='yellow',fontsize=40,bg_color='black');\n",
        "        title01 = title01.set_position(('center',400)).set_duration(2);\n",
        "\n",
        "        Author = TextClip(f'{author}', font='Amiri-regular',color='yellow',fontsize=20,bg_color='black');\n",
        "        Author = Author.set_position(('center',450)).set_duration(2);\n",
        "        #next video\n",
        "        nextv = TextClip(f'Part : {part} - {total}', font='Amiri-regular',color='yellow',fontsize=30);\n",
        "        nextv = nextv.set_position(lambda t:('bottom','left')).set_duration(videoE.duration);\n",
        "        \n",
        "        video = CompositeVideoClip([videoE,title,title01,Author,txt01.set_start(3).crossfadein(1),txt02.set_start(3).crossfadein(1)]);    \n",
        "        video = video.rotate(angle = angle)\n",
        "\n",
        "        name = Name.replace(' ','')\n",
        "        video.write_videofile(f'/content/contents/{name}_{part}.mp4',progress_bar = False);\n",
        "\n",
        "        # video.ipython_display(width=100,verbose=False,progress_bar = False)\n",
        "        #clean up \n",
        "        os.remove(path)\n",
        "      except:\n",
        "        print(f'Something Wrong With Part : {part}')\n",
        "      num+=1\n",
        "    else:\n",
        "      continue\n",
        "      \n",
        "changeVideo1('nil')\n",
        "path = '/content/contents/Nvideo-5-of-5.mp4'\n",
        "Name = 'test'\n",
        "videoE = VideoFileClip(path, audio=True)\n",
        "w,h = moviesize = videoE.size\n",
        "\n",
        "# txt = TextClip(, font='Amiri-regular',\n",
        "#                 color='yellow',fontsize=40);\n",
        "# txt = txt.set_position(lambda t:(10,50)).set_duration(videoE.duration);\n",
        "# video = CompositeVideoClip([videoE,txt.set_start(0.1).crossfadein(2)]);\n",
        "# # txt = TextClip(f'Part : {part} - {total}', font='Amiri-regular',\n",
        "# #                 color='yellow',fontsize=20);\n",
        "# # txt = txt.set_position(lambda t:(20,80)).set_duration(video.duration);\n",
        "# # video = CompositeVideoClip([video,txt.set_start(0.1).crossfadein(2)]);\n",
        "\n",
        "#texts after beginning screen\n",
        "txt01 = TextClip(f' {Name}', font='Amiri-regular',color='yellow',fontsize=30);\n",
        "txt01 = txt01.set_position(lambda t:(20,40)).set_duration(videoE.duration);\n",
        "txt02 = TextClip(f'Part : {part} - {total}', font='Amiri-regular',color='yellow',fontsize=30);\n",
        "txt02 = txt02.set_position(lambda t:(20,80)).set_duration(videoE.duration);\n",
        "#title\n",
        "title = TextClip(f'{Name}', font='Amiri-regular',color='yellow',fontsize=40,bg_color = 'black')\n",
        "title = title.set_position(('center','center')).set_duration(2)\n",
        "title01 = TextClip(f'Part : {part} - {total}', font='Amiri-regular',color='yellow',fontsize=40,bg_color='black');\n",
        "title01 = title01.set_position(('center',400)).set_duration(2);\n",
        "Author = TextClip(f'{author}', font='Amiri-regular',color='yellow',fontsize=20,bg_color='black');\n",
        "Author = Author.set_position(('center',450)).set_duration(2);\n",
        "video = CompositeVideoClip([videoE,title,title01,Author,txt01.set_start(3).crossfadein(1),txt02.set_start(3).crossfadein(1)]);\n",
        "  \n",
        "video = video.rotate(angle = angle)\n",
        "\n",
        "name = Name.replace(' ','')\n",
        "video.write_videofile(f'/content/contents/{name}_{part}.mp4',progress_bar = False);\n"
      ],
      "execution_count": null,
      "outputs": []
    },
    {
      "cell_type": "code",
      "metadata": {
        "id": "Q69gIw_7dfIu"
      },
      "source": [
        ""
      ],
      "execution_count": null,
      "outputs": []
    }
  ]
}