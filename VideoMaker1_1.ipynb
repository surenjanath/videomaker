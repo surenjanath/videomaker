{
  "nbformat": 4,
  "nbformat_minor": 0,
  "metadata": {
    "colab": {
      "name": "VideoMaker1.1.ipynb",
      "provenance": [],
      "collapsed_sections": [],
      "authorship_tag": "ABX9TyMiOSdJTElfmBceH86II+iv"
    },
    "kernelspec": {
      "display_name": "Python 3",
      "name": "python3"
    },
    "language_info": {
      "name": "python"
    }
  },
  "cells": [
    {
      "cell_type": "code",
      "metadata": {
        "id": "k_gnP8hcUodI"
      },
      "source": [
        "# ###################################\n",
        "#     ----    S T A R T ----\n",
        "# ###################################\n",
        "\n",
        "# Libraries to be installed every run\n",
        "\n",
        "!pip install moviepy;\n",
        "!pip install pytube ;\n",
        "!apt install imagemagick;\n",
        "\n",
        "\n",
        "# ###################################\n",
        "#       -- I M P O R T A N T --\n",
        "# ###################################\n",
        "# imagemagick have a piece of line that needs deleting so this would read and delete the line ( rewrite file )\n",
        "\n",
        "policypath = '/etc/ImageMagick-6/policy.xml'\n",
        "try:\n",
        "  with open(policypath,'r') as f:\n",
        "    lines = f.readlines()\n",
        "  # del policypath\n",
        "except:\n",
        "  print('File not found...')\n",
        "\n",
        "# policypath = '/etc/ImageMagick-6/policy.xml'\n",
        "with open(policypath,'w') as rwrite:\n",
        "  for i in lines:\n",
        "    if i.strip() == '<policy domain=\"path\" rights=\"none\" pattern=\"@*\"/>':\n",
        "      print('deleted')\n",
        "    else:\n",
        "      rwrite.write(i)"
      ],
      "execution_count": null,
      "outputs": []
    },
    {
      "cell_type": "code",
      "metadata": {
        "id": "rh0rJ-iJet3i",
        "colab": {
          "base_uri": "https://localhost:8080/"
        },
        "outputId": "f6e8b939-e203-4296-fe0b-9ff0851e40ca"
      },
      "source": [
        "import sys\n",
        "import os\n",
        "from pytube import YouTube # downloading videos\n",
        "from moviepy.editor import * # for editing video\n",
        "import subprocess # splitting videos\n",
        "import re"
      ],
      "execution_count": 2,
      "outputs": [
        {
          "output_type": "stream",
          "text": [
            "Imageio: 'ffmpeg-linux64-v3.3.1' was not found on your computer; downloading it now.\n",
            "Try 1. Download from https://github.com/imageio/imageio-binaries/raw/master/ffmpeg/ffmpeg-linux64-v3.3.1 (43.8 MB)\n",
            "Downloading: 8192/45929032 bytes (0.0%)\b\b\b\b\b\b\b\b\b\b\b\b\b\b\b\b\b\b\b\b\b\b\b\b\b\b2326528/45929032 bytes (5.1%)\b\b\b\b\b\b\b\b\b\b\b\b\b\b\b\b\b\b\b\b\b\b\b\b\b\b\b\b\b5734400/45929032 bytes (12.5%)\b\b\b\b\b\b\b\b\b\b\b\b\b\b\b\b\b\b\b\b\b\b\b\b\b\b\b\b\b\b9043968/45929032 bytes (19.7%)\b\b\b\b\b\b\b\b\b\b\b\b\b\b\b\b\b\b\b\b\b\b\b\b\b\b\b\b\b\b12566528/45929032 bytes (27.4%)\b\b\b\b\b\b\b\b\b\b\b\b\b\b\b\b\b\b\b\b\b\b\b\b\b\b\b\b\b\b\b16130048/45929032 bytes (35.1%)\b\b\b\b\b\b\b\b\b\b\b\b\b\b\b\b\b\b\b\b\b\b\b\b\b\b\b\b\b\b\b19750912/45929032 bytes (43.0%)\b\b\b\b\b\b\b\b\b\b\b\b\b\b\b\b\b\b\b\b\b\b\b\b\b\b\b\b\b\b\b23298048/45929032 bytes (50.7%)\b\b\b\b\b\b\b\b\b\b\b\b\b\b\b\b\b\b\b\b\b\b\b\b\b\b\b\b\b\b\b26828800/45929032 bytes (58.4%)\b\b\b\b\b\b\b\b\b\b\b\b\b\b\b\b\b\b\b\b\b\b\b\b\b\b\b\b\b\b\b30334976/45929032 bytes (66.0%)\b\b\b\b\b\b\b\b\b\b\b\b\b\b\b\b\b\b\b\b\b\b\b\b\b\b\b\b\b\b\b34029568/45929032 bytes (74.1%)\b\b\b\b\b\b\b\b\b\b\b\b\b\b\b\b\b\b\b\b\b\b\b\b\b\b\b\b\b\b\b37584896/45929032 bytes (81.8%)\b\b\b\b\b\b\b\b\b\b\b\b\b\b\b\b\b\b\b\b\b\b\b\b\b\b\b\b\b\b\b41156608/45929032 bytes (89.6%)\b\b\b\b\b\b\b\b\b\b\b\b\b\b\b\b\b\b\b\b\b\b\b\b\b\b\b\b\b\b\b44728320/45929032 bytes (97.4%)\b\b\b\b\b\b\b\b\b\b\b\b\b\b\b\b\b\b\b\b\b\b\b\b\b\b\b\b\b\b\b45929032/45929032 bytes (100.0%)\n",
            "  Done\n",
            "File saved as /root/.imageio/ffmpeg/ffmpeg-linux64-v3.3.1.\n"
          ],
          "name": "stdout"
        }
      ]
    },
    {
      "cell_type": "code",
      "metadata": {
        "id": "8ayb62Zyf3-r"
      },
      "source": [
        "def download(Link):\n",
        "    cwdpath = os.getcwd()\n",
        "    print(f' Your location : {cwdpath}')\n",
        "\n",
        "    # DOWNLOAD YOUTUBE VIDEOS\n",
        "    print(' Let\\'s download a Video ')\n",
        "    yt = YouTube(Link)\n",
        "    title = yt.title\n",
        "    print(f' Video Name      : {title}')\n",
        "    desc = yt.description\n",
        "    lenght = yt.length\n",
        "    print(f' Length of video : {lenght} seconds')\n",
        "\n",
        "    video = yt.streams.get_highest_resolution()\n",
        "    vid_loc = os.path.join(cwdpath,'contents')\n",
        "    path = video.download(vid_loc)\n",
        "\n",
        "    document = {\n",
        "        'Title'          : title,\n",
        "        'Description'    : desc,\n",
        "        'Video_Path'     : path,\n",
        "        'Current_Folder' : cwdpath\n",
        "    }\n",
        "    with open('/content/info.txt','w') as f:\n",
        "      f.write(title+'\\n'+desc+'\\n')\n",
        "\n",
        "    return document\n",
        "\n",
        "def manifest(start,end):\n",
        "  path = '/content/contents/Nvideo.mp4'\n",
        "  with open('/content/manifest.csv','w') as f:\n",
        "    f.write('start_time,length,rename_to\\n')\n",
        "    f.write(f'{start},{end},{path}')\n",
        "  print('WRITING TO MANIFEST FILE')\n",
        "\n",
        "def split(meta,split_time,start,end):\n",
        "  #SPLIT VIDEO\n",
        "  path  = meta['Video_Path'] \n",
        "\n",
        "  splitter = '/content/video-splitter/ffmpeg-split.py'\n",
        "  if os.path.isfile(splitter) :\n",
        "    print('File is available. Moving along.')\n",
        "  else:\n",
        "    !git clone https://github.com/c0decracker/video-splitter.git\n",
        "  if end == 0:\n",
        "    subprocess.run(['python', splitter, '-s',split_time ,'-f', path ])\n",
        "  else:\n",
        "    manifest(start,end)\n",
        "    subprocess.run(['python', splitter ,'-f', path, '-m','/content/manifest.csv' ])\n",
        "    os. remove(path)\n",
        "\n",
        "    path = '/content/contents/Nvideo.mp4'\n",
        "\n",
        "    subprocess.run(['python', splitter, '-s', split_time  ,'-f', path])\n",
        "\n",
        "  os. remove(path) \n",
        "\n",
        "\n",
        "def changeVideo():\n",
        "  lists = os.listdir('/content/contents/')\n",
        "  x= 0\n",
        "  paths = []\n",
        "  for i in lists:\n",
        "    paths.append(os.path.join('/content/contents',i))\n",
        "    print(paths[x])\n",
        "    x+=1\n",
        "    regex = '(-\\d-\\d*)'\n",
        "  info = '/content/info.txt'\n",
        "  with open(info,'r') as f:\n",
        "    p = f.readline()\n",
        "  Name = p.replace('(Official Video)\\n','').strip()\n",
        "  path = paths[0]\n",
        "\n",
        "  total = len(paths)\n",
        "  num = 1\n",
        "  for path in paths:\n",
        "    part = re.findall('-(\\w+)-',path)[0]\n",
        "    try:\n",
        "      print( '---------------------------------------------')\n",
        "      print(f'Video Part : {num} / {total}')\n",
        "      print( '---------------------------------------------')\n",
        "      videoE = VideoFileClip(path, audio=True)\n",
        "      w,h = moviesize = videoE.size\n",
        "\n",
        "      txt = TextClip(f' {Name}\\n Part : {part} - {total}', font='Amiri-regular',\n",
        "                      color='yellow',fontsize=30);\n",
        "      txt = txt.set_position(lambda t:(10,50)).set_duration(videoE.duration);\n",
        "      video = CompositeVideoClip([videoE,txt.set_start(0.1).crossfadein(2)]);\n",
        "      # txt = TextClip(f'Part : {part} - {total}', font='Amiri-regular',\n",
        "      #                 color='yellow',fontsize=20);\n",
        "      # txt = txt.set_position(lambda t:(20,80)).set_duration(video.duration);\n",
        "      # video = CompositeVideoClip([video,txt.set_start(0.1).crossfadein(2)]);\n",
        "      name = Name.replace(' ','')\n",
        "      video.write_videofile(f'/content/contents/{name}_{part}.mp4');\n",
        "      #clean up \n",
        "      os.remove(path)\n",
        "    except:\n",
        "      print(f'Something Wrong With Part : {part}')\n",
        "    num+=1\n",
        "def videoSavior():\n",
        "  #Zip Folder and Download\n",
        "  from google.colab import files\n",
        "  !zip -r /content/contents/Videos.zip /content/contents/\n",
        "  files.download(\"/content/contents/Videos.zip\")\n",
        "\n",
        "def cleanUP():\n",
        "  dir = os.listdir('/content/contents/')\n",
        "  print('Cleaning up Storage...')\n",
        "  for i in dir:\n",
        "    os.remove('/content/contents/'+i)\n",
        "  print('Still Cleaning...')\n",
        "  os.remove('/content/info.txt')\n",
        "  os.remove('/content/manifest.csv')\n",
        "\n",
        "def main(split_time,start,end):\n",
        "    Link = input(' Please Enter YouTube Link : ')\n",
        "\n",
        "    meta = download(Link)\n",
        "\n",
        "    split(meta,str(split_time),start,end)\n",
        "\n",
        "    changeVideo()\n",
        "\n",
        "    videoSavior()\n",
        "    \n",
        "    cleanUP()"
      ],
      "execution_count": 7,
      "outputs": []
    },
    {
      "cell_type": "code",
      "metadata": {
        "id": "p39fHEVvXHym"
      },
      "source": [
        "# --------------------------------\n",
        "#     --  Start Program   --\n",
        "\n",
        "# Change these 2 variables only if you're splitting main video before splitting to 59s videos\n",
        "start      = 5  # 0 default\n",
        "end        = 299  # 0 default\n",
        "split_time = 59 # time for videos. 59 secs for tiktoks\n",
        "\n",
        "main(split_time,start,end) \n",
        "\n",
        "## Enter Desired Video to Upload to Status / Tiktok"
      ],
      "execution_count": null,
      "outputs": []
    },
    {
      "cell_type": "code",
      "metadata": {
        "id": "wcWrb2pZm_Zn"
      },
      "source": [
        "https://www.youtube.com/watch?v=9EtKgmVMsFQ&ab_channel=Psych2Go"
      ],
      "execution_count": null,
      "outputs": []
    },
    {
      "cell_type": "code",
      "metadata": {
        "id": "2d2Ufb0gol0m"
      },
      "source": [
        "dir = os.listdir('/content/contents/')\n",
        "for i in dir:\n",
        "  os.remove('/content/contents/'+i)\n",
        "os.remove"
      ],
      "execution_count": 6,
      "outputs": []
    },
    {
      "cell_type": "code",
      "metadata": {
        "id": "wZ__LXfNowyu"
      },
      "source": [
        ""
      ],
      "execution_count": null,
      "outputs": []
    }
  ]
}