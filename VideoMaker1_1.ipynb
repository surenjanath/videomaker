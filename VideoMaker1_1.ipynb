{
  "nbformat": 4,
  "nbformat_minor": 0,
  "metadata": {
    "colab": {
      "name": "VideoMaker1.1.ipynb",
      "provenance": [],
      "collapsed_sections": [],
      "authorship_tag": "ABX9TyOxWUCc5tPUgtYJOW1hCQDR"
    },
    "kernelspec": {
      "display_name": "Python 3",
      "name": "python3"
    },
    "language_info": {
      "name": "python"
    }
  },
  "cells": [
    {
      "cell_type": "code",
      "metadata": {
        "id": "k_gnP8hcUodI",
        "colab": {
          "base_uri": "https://localhost:8080/"
        },
        "outputId": "2f489c5b-de98-4c7d-9279-d8c04bc4b731"
      },
      "source": [
        "# ###################################\n",
        "#     ----    S T A R T ----\n",
        "# ###################################\n",
        "\n",
        "# Libraries to be installed every run\n",
        "\n",
        "!pip install moviepy\n",
        "!pip install pytube \n",
        "!apt install imagemagick\n",
        "\n",
        "\n",
        "# ###################################\n",
        "#       -- I M P O R T A N T --\n",
        "# ###################################\n",
        "# imagemagick have a piece of line that needs deleting so this would read and delete the line ( rewrite file )\n",
        "\n",
        "policypath = '/etc/ImageMagick-6/policy.xml'\n",
        "try:\n",
        "  with open(policypath,'r') as f:\n",
        "    lines = f.readlines()\n",
        "  # del policypath\n",
        "except:\n",
        "  print('File not found...')\n",
        "\n",
        "# policypath = '/etc/ImageMagick-6/policy.xml'\n",
        "with open(policypath,'w') as rwrite:\n",
        "  for i in lines:\n",
        "    if i.strip() == '<policy domain=\"path\" rights=\"none\" pattern=\"@*\"/>':\n",
        "      print('deleted')\n",
        "    else:\n",
        "      rwrite.write(i)"
      ],
      "execution_count": 3,
      "outputs": [
        {
          "output_type": "stream",
          "text": [
            "Requirement already satisfied: moviepy in /usr/local/lib/python3.7/dist-packages (0.2.3.5)\n",
            "Requirement already satisfied: numpy in /usr/local/lib/python3.7/dist-packages (from moviepy) (1.19.5)\n",
            "Requirement already satisfied: decorator<5.0,>=4.0.2 in /usr/local/lib/python3.7/dist-packages (from moviepy) (4.4.2)\n",
            "Requirement already satisfied: tqdm<5.0,>=4.11.2 in /usr/local/lib/python3.7/dist-packages (from moviepy) (4.41.1)\n",
            "Requirement already satisfied: imageio<3.0,>=2.1.2 in /usr/local/lib/python3.7/dist-packages (from moviepy) (2.4.1)\n",
            "Requirement already satisfied: pillow in /usr/local/lib/python3.7/dist-packages (from imageio<3.0,>=2.1.2->moviepy) (7.1.2)\n",
            "Requirement already satisfied: pytube in /usr/local/lib/python3.7/dist-packages (10.8.1)\n",
            "Reading package lists... Done\n",
            "Building dependency tree       \n",
            "Reading state information... Done\n",
            "imagemagick is already the newest version (8:6.9.7.4+dfsg-16ubuntu6.9).\n",
            "The following package was automatically installed and is no longer required:\n",
            "  libnvidia-common-460\n",
            "Use 'apt autoremove' to remove it.\n",
            "0 upgraded, 0 newly installed, 0 to remove and 34 not upgraded.\n"
          ],
          "name": "stdout"
        }
      ]
    },
    {
      "cell_type": "code",
      "metadata": {
        "id": "rh0rJ-iJet3i"
      },
      "source": [
        "import sys\n",
        "import os\n",
        "from pytube import YouTube # downloading videos\n",
        "from moviepy.editor import * # for editing video\n",
        "import subprocess # splitting videos\n",
        "import re"
      ],
      "execution_count": 4,
      "outputs": []
    },
    {
      "cell_type": "code",
      "metadata": {
        "id": "8ayb62Zyf3-r"
      },
      "source": [
        "def download(Link):\n",
        "    cwdpath = os.getcwd()\n",
        "    print(f' Your location : {cwdpath}')\n",
        "\n",
        "    # DOWNLOAD YOUTUBE VIDEOS\n",
        "    print(' Let\\'s download a Video ')\n",
        "    yt = YouTube(Link)\n",
        "    title = yt.title\n",
        "    print(f' Video Name      : {title}')\n",
        "    desc = yt.description\n",
        "    lenght = yt.length\n",
        "    print(f' Length of video : {lenght} seconds')\n",
        "\n",
        "    video = yt.streams.get_highest_resolution()\n",
        "    vid_loc = os.path.join(cwdpath,'contents')\n",
        "    path = video.download(vid_loc)\n",
        "\n",
        "    document = {\n",
        "        'Title'          : title,\n",
        "        'Description'    : desc,\n",
        "        'Video_Path'     : path,\n",
        "        'Current_Folder' : cwdpath\n",
        "    }\n",
        "    with open('/content/info.txt','w') as f:\n",
        "      f.write(title+'\\n'+desc+'\\n')\n",
        "\n",
        "    return document\n",
        "\n",
        "def manifest(end):\n",
        "  path = '/content/contents/Nvideo.mp4'\n",
        "  with open('/content/manifest.csv','w') as f:\n",
        "    f.write('start_time,length,rename_to\\n')\n",
        "    f.write(f'0,{end},{path}')\n",
        "  print('WRITING TO MANIFEST FILE')\n",
        "\n",
        "def split(meta,end):\n",
        "  #SPLIT VIDEO\n",
        "  path  = meta['Video_Path'] \n",
        "\n",
        "  splitter = '/content/video-splitter/ffmpeg-split.py'\n",
        "  if os.path.isfile(splitter) :\n",
        "    print('File is available. Moving along.')\n",
        "  else:\n",
        "    !git clone https://github.com/c0decracker/video-splitter.git\n",
        "  if end == 0:\n",
        "    subprocess.run(['python', splitter ,'-f', path, '-s','59' ])\n",
        "  else:\n",
        "    manifest(end)\n",
        "    subprocess.run(['python', splitter ,'-f', path, '-m','/content/manifest.csv' ])\n",
        "    os. remove(path)\n",
        "\n",
        "    path = '/content/contents/Nvideo.mp4'\n",
        "\n",
        "    subprocess.run(['python', splitter ,'-f', path, '-s','59' ])\n",
        "\n",
        "  os. remove(path) \n",
        "\n",
        "\n",
        "def changeVideo():\n",
        "  lists = os.listdir('/content/contents/')\n",
        "  x= 0\n",
        "  paths = []\n",
        "  for i in lists:\n",
        "    paths.append(os.path.join('/content/contents',i))\n",
        "    print(paths[x])\n",
        "    x+=1\n",
        "    regex = '(-\\d-\\d*)'\n",
        "  info = '/content/info.txt'\n",
        "  with open(info,'r') as f:\n",
        "    p = f.readline()\n",
        "  Name = p.replace('(Official Video)\\n','').strip()\n",
        "  path = paths[0]\n",
        "\n",
        "  total = len(paths)\n",
        "  for path in paths:\n",
        "    part = re.findall('-(\\w+)-',path)[0]\n",
        "    try:\n",
        "      print( '---------------------------------------------')\n",
        "      print(f'Video Part : {part} / {total}')\n",
        "      print( '---------------------------------------------')\n",
        "      videoE = VideoFileClip(path, audio=True)\n",
        "      w,h = moviesize = videoE.size\n",
        "\n",
        "      txt = TextClip(f' {Name}\\n Part : {part} - {total}', font='Amiri-regular',\n",
        "                      color='yellow',fontsize=30);\n",
        "      txt = txt.set_position(lambda t:(10,50)).set_duration(videoE.duration);\n",
        "      video = CompositeVideoClip([videoE,txt.set_start(0.1).crossfadein(2)]);\n",
        "      # txt = TextClip(f'Part : {part} - {total}', font='Amiri-regular',\n",
        "      #                 color='yellow',fontsize=20);\n",
        "      # txt = txt.set_position(lambda t:(20,80)).set_duration(video.duration);\n",
        "      # video = CompositeVideoClip([video,txt.set_start(0.1).crossfadein(2)]);\n",
        "      name = Name.replace(' ','')\n",
        "      video.write_videofile(f'/content/contents/{name}_{part}.mp4');\n",
        "      #clean up \n",
        "      os.remove(path)\n",
        "    except:\n",
        "      print(f'Something Wrong With Part : {part}')\n",
        "\n",
        "def videoSavior():\n",
        "  #Zip Folder and Download\n",
        "  from google.colab import files\n",
        "  !zip -r /content/contents/Videos.zip /content/contents/\n",
        "  files.download(\"/content/contents/Videos.zip\")\n",
        "\n",
        "def main(end):\n",
        "    Link = input(' Please Enter YouTube Link : ')\n",
        "    meta = download(Link)\n",
        "    #https://www.youtube.com/watch?v=d5ZFBbmvlSQ\n",
        "    split(meta,end)\n",
        "    changeVideo()\n",
        "    videoSavior()"
      ],
      "execution_count": 30,
      "outputs": []
    },
    {
      "cell_type": "code",
      "metadata": {
        "id": "p39fHEVvXHym"
      },
      "source": [
        "# --------------------------------\n",
        "#     --  Start Program   --\n",
        "end = 210\n",
        "main(end) \n",
        "\n",
        "## Enter Desired Video to Upload to Status / Tiktok"
      ],
      "execution_count": null,
      "outputs": []
    },
    {
      "cell_type": "code",
      "metadata": {
        "id": "2d2Ufb0gol0m"
      },
      "source": [
        "dir = os.listdir('/content/contents/')\n",
        "for i in dir:\n",
        "  os.remove('/content/contents/'+i)"
      ],
      "execution_count": null,
      "outputs": []
    }
  ]
}