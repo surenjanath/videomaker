{
  "nbformat": 4,
  "nbformat_minor": 0,
  "metadata": {
    "colab": {
      "name": "VideoMaker.ipynb",
      "provenance": [],
      "collapsed_sections": [],
      "authorship_tag": "ABX9TyNPsC94Z78RN0A8GpV/Cjy9"
    },
    "kernelspec": {
      "name": "python3",
      "display_name": "Python 3"
    },
    "language_info": {
      "name": "python"
    }
  },
  "cells": [
    {
      "cell_type": "code",
      "metadata": {
        "id": "k_gnP8hcUodI"
      },
      "source": [
        "# ###################################\n",
        "#     ----    S T A R T ----\n",
        "# ###################################\n",
        "\n",
        "# Libraries to be installed every run\n",
        "\n",
        "!pip install moviepy\n",
        "!pip install pytube \n",
        "!apt install imagemagick\n",
        "\n",
        "\n",
        "# ###################################\n",
        "#       -- I M P O R T A N T --\n",
        "# ###################################\n",
        "# imagemagick have a piece of line that needs deleting so this would read and delete the line ( rewrite file )\n",
        "\n",
        "policypath = '/etc/ImageMagick-6/policy.xml'\n",
        "try:\n",
        "  with open(policypath,'r') as f:\n",
        "    lines = f.readlines()\n",
        "  # del policypath\n",
        "except:\n",
        "  print('File not found...')\n",
        "\n",
        "# policypath = '/etc/ImageMagick-6/policy.xml'\n",
        "with open(policypath,'w') as rwrite:\n",
        "  for i in lines:\n",
        "    if i.strip() == '<policy domain=\"path\" rights=\"none\" pattern=\"@*\"/>':\n",
        "      print('deleted')\n",
        "    else:\n",
        "      rwrite.write(i)"
      ],
      "execution_count": null,
      "outputs": []
    },
    {
      "cell_type": "code",
      "metadata": {
        "id": "rh0rJ-iJet3i"
      },
      "source": [
        "import sys\n",
        "import os\n",
        "from pytube import YouTube # downloading videos\n",
        "from moviepy.editor import * # for editing video\n",
        "import subprocess # splitting videos\n",
        "import re"
      ],
      "execution_count": null,
      "outputs": []
    },
    {
      "cell_type": "code",
      "metadata": {
        "id": "8ayb62Zyf3-r"
      },
      "source": [
        "\n",
        "def download(Link):\n",
        "    cwdpath = os.getcwd()\n",
        "    print(f' Your location : {cwdpath}')\n",
        "\n",
        "    # DOWNLOAD YOUTUBE VIDEOS\n",
        "    print(' Let\\'s download a Video ')\n",
        "    yt = YouTube(Link)\n",
        "    title = yt.title\n",
        "    print(f' Video Name      : {title}')\n",
        "    desc = yt.description\n",
        "    lenght = yt.length\n",
        "    print(f' Length of video : {lenght} seconds')\n",
        "\n",
        "    video = yt.streams.get_highest_resolution()\n",
        "    vid_loc = os.path.join(cwdpath,'contents')\n",
        "    path = video.download(vid_loc)\n",
        "\n",
        "    document = {\n",
        "        'Title'          : title,\n",
        "        'Description'    : desc,\n",
        "        'Video_Path'     : path,\n",
        "        'Current_Folder' : cwdpath\n",
        "    }\n",
        "    with open('/content/info.txt','w') as f:\n",
        "      f.write(title+'\\n'+desc+'\\n')\n",
        "\n",
        "    return document\n",
        "def split(meta):\n",
        "  #SPLIT VIDEO\n",
        "  path  = meta['Video_Path'] \n",
        "\n",
        "  splitter = '/content/video-splitter/ffmpeg-split.py'\n",
        "  if os.path.isfile(splitter) :\n",
        "    print('File is available. Moving along.')\n",
        "  else:\n",
        "    !git clone https://github.com/c0decracker/video-splitter.git\n",
        "\n",
        "\n",
        "  subprocess.run(['python', splitter ,'-f', path,'-s','59' ])\n",
        "  os. remove(path) \n",
        "\n",
        "\n",
        "def changeVideo():\n",
        "  lists = os.listdir('/content/contents/')\n",
        "  x= 0\n",
        "  paths = []\n",
        "  for i in lists:\n",
        "    paths.append(os.path.join('/content/contents',i))\n",
        "    print(paths[x])\n",
        "    x+=1\n",
        "    regex = '(-\\d-\\d*)'\n",
        "  info = '/content/info.txt'\n",
        "  with open(info,'r') as f:\n",
        "    p = f.readline()\n",
        "  Name = p.replace('(Official Video)\\n','').strip()\n",
        "  path = paths[0]\n",
        "\n",
        "  total = len(paths)\n",
        "  for path in paths:\n",
        "\n",
        "    part = re.findall('-(\\w+)-',path)[0]\n",
        "\n",
        "    videoE = VideoFileClip(path, audio=True)\n",
        "    w,h = moviesize = videoE.size\n",
        "\n",
        "    txt = TextClip(f' {Name}\\n Part : {part} - {total}', font='Amiri-regular',\n",
        "                    color='yellow',fontsize=20);\n",
        "    txt = txt.set_position(lambda t:(10,50)).set_duration(videoE.duration);\n",
        "    video = CompositeVideoClip([videoE,txt.set_start(0.1).crossfadein(2)]);\n",
        "\n",
        "    # txt = TextClip(f'Part : {part} - {total}', font='Amiri-regular',\n",
        "    #                 color='yellow',fontsize=20);\n",
        "    # txt = txt.set_position(lambda t:(20,80)).set_duration(video.duration);\n",
        "\n",
        "    # video = CompositeVideoClip([video,txt.set_start(0.1).crossfadein(2)]);\n",
        "    name = Name.replace(' ','')\n",
        "    video.write_videofile(f'/content/contents/{name}_{part}.mp4')\n",
        "    #clean up \n",
        "    try:\n",
        "      !rm path\n",
        "    except:\n",
        "      !del path\n",
        "\n",
        "\n",
        "\n",
        "def main():\n",
        "    Link = input(' Please Enter YouTube Link : ')\n",
        "    meta = download(Link)\n",
        "    #https://www.youtube.com/watch?v=d5ZFBbmvlSQ\n",
        "    split(meta)\n",
        "    changeVideo()"
      ],
      "execution_count": 122,
      "outputs": []
    },
    {
      "cell_type": "code",
      "metadata": {
        "colab": {
          "base_uri": "https://localhost:8080/"
        },
        "id": "wgJhTcp5f_mb",
        "outputId": "538452de-6696-4b71-fb38-dea8ece1792e"
      },
      "source": [
        "main() #https://www.youtube.com/watch?v=d5ZFBbmvlSQ"
      ],
      "execution_count": 108,
      "outputs": [
        {
          "output_type": "stream",
          "text": [
            " Please Enter YouTube Link : https://www.youtube.com/watch?v=qL-6Ij9fWbA&ab_channel=ItsNashii\n",
            " Your location : /content\n",
            " Let's download a Video \n",
            " Video Name      : Believe in yourself | Inspirational Multifandom\n",
            " Length of video : 265 seconds\n",
            "File is available. Moving along.\n"
          ],
          "name": "stdout"
        }
      ]
    },
    {
      "cell_type": "code",
      "metadata": {
        "id": "PvUGenCo6fo9"
      },
      "source": [
        "!rm '/content/contents/Believe in yourself  Inspirational Multifandom-5-of-5.mp4'\n"
      ],
      "execution_count": 121,
      "outputs": []
    },
    {
      "cell_type": "code",
      "metadata": {
        "colab": {
          "base_uri": "https://localhost:8080/"
        },
        "id": "DqFluijShmpP",
        "outputId": "81308874-71a3-492a-e13b-4117cdc9d250"
      },
      "source": [
        "lists = os.listdir('/content/contents/')\n",
        "x= 0\n",
        "paths = []\n",
        "for i in lists:\n",
        "  paths.append(os.path.join('/content/contents',i))\n",
        "  print(paths[x])\n",
        "  x+=1\n",
        "\n",
        "  regex = '(-\\d-\\d*)'"
      ],
      "execution_count": 95,
      "outputs": [
        {
          "output_type": "stream",
          "text": [
            "/content/contents/Doja Cat - Streets (Official Video)-5-of-5.mp4\n",
            "/content/contents/info.txt\n",
            "/content/contents/.ipynb_checkpoints\n"
          ],
          "name": "stdout"
        }
      ]
    }
  ]
}